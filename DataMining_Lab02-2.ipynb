{
  "nbformat": 4,
  "nbformat_minor": 0,
  "metadata": {
    "kernelspec": {
      "display_name": "Python 3",
      "language": "python",
      "name": "python3"
    },
    "language_info": {
      "codemirror_mode": {
        "name": "ipython",
        "version": 3
      },
      "file_extension": ".py",
      "mimetype": "text/x-python",
      "name": "python",
      "nbconvert_exporter": "python",
      "pygments_lexer": "ipython3",
      "version": "3.7.4"
    },
    "colab": {
      "name": "DataMining_Lab02.ipynb",
      "provenance": [],
      "collapsed_sections": [
        "_5GMC9ASrnbs",
        "x0z5uAN5taJI"
      ]
    }
  },
  "cells": [
    {
      "cell_type": "markdown",
      "metadata": {
        "id": "lPWI7cRoQ4fv"
      },
      "source": [
        "# QUESTION NUMBER 4"
      ]
    },
    {
      "cell_type": "code",
      "metadata": {
        "id": "5hkPACtueHvl",
        "colab": {
          "base_uri": "https://localhost:8080/",
          "height": 359
        },
        "outputId": "8acd273c-2623-4238-a804-3c12cc13f2a1"
      },
      "source": [
        "#importing pandas to create a dataframe\n",
        "import pandas as pd\n",
        "\n",
        "#importing the library numpy\n",
        "import numpy as np\n",
        "\n",
        "#reading the csv file into a dataframe\n",
        "data = pd.read_csv('country-income.csv')\n",
        "data"
      ],
      "execution_count": null,
      "outputs": [
        {
          "output_type": "execute_result",
          "data": {
            "text/html": [
              "<div>\n",
              "<style scoped>\n",
              "    .dataframe tbody tr th:only-of-type {\n",
              "        vertical-align: middle;\n",
              "    }\n",
              "\n",
              "    .dataframe tbody tr th {\n",
              "        vertical-align: top;\n",
              "    }\n",
              "\n",
              "    .dataframe thead th {\n",
              "        text-align: right;\n",
              "    }\n",
              "</style>\n",
              "<table border=\"1\" class=\"dataframe\">\n",
              "  <thead>\n",
              "    <tr style=\"text-align: right;\">\n",
              "      <th></th>\n",
              "      <th>Region</th>\n",
              "      <th>Age</th>\n",
              "      <th>Income</th>\n",
              "      <th>Online Shopper</th>\n",
              "    </tr>\n",
              "  </thead>\n",
              "  <tbody>\n",
              "    <tr>\n",
              "      <th>0</th>\n",
              "      <td>India</td>\n",
              "      <td>49.0</td>\n",
              "      <td>86400.0</td>\n",
              "      <td>No</td>\n",
              "    </tr>\n",
              "    <tr>\n",
              "      <th>1</th>\n",
              "      <td>Brazil</td>\n",
              "      <td>32.0</td>\n",
              "      <td>57600.0</td>\n",
              "      <td>Yes</td>\n",
              "    </tr>\n",
              "    <tr>\n",
              "      <th>2</th>\n",
              "      <td>USA</td>\n",
              "      <td>35.0</td>\n",
              "      <td>64800.0</td>\n",
              "      <td>No</td>\n",
              "    </tr>\n",
              "    <tr>\n",
              "      <th>3</th>\n",
              "      <td>Brazil</td>\n",
              "      <td>43.0</td>\n",
              "      <td>73200.0</td>\n",
              "      <td>No</td>\n",
              "    </tr>\n",
              "    <tr>\n",
              "      <th>4</th>\n",
              "      <td>USA</td>\n",
              "      <td>45.0</td>\n",
              "      <td>NaN</td>\n",
              "      <td>Yes</td>\n",
              "    </tr>\n",
              "    <tr>\n",
              "      <th>5</th>\n",
              "      <td>India</td>\n",
              "      <td>40.0</td>\n",
              "      <td>69600.0</td>\n",
              "      <td>Yes</td>\n",
              "    </tr>\n",
              "    <tr>\n",
              "      <th>6</th>\n",
              "      <td>Brazil</td>\n",
              "      <td>NaN</td>\n",
              "      <td>62400.0</td>\n",
              "      <td>No</td>\n",
              "    </tr>\n",
              "    <tr>\n",
              "      <th>7</th>\n",
              "      <td>India</td>\n",
              "      <td>53.0</td>\n",
              "      <td>94800.0</td>\n",
              "      <td>Yes</td>\n",
              "    </tr>\n",
              "    <tr>\n",
              "      <th>8</th>\n",
              "      <td>USA</td>\n",
              "      <td>55.0</td>\n",
              "      <td>99600.0</td>\n",
              "      <td>No</td>\n",
              "    </tr>\n",
              "    <tr>\n",
              "      <th>9</th>\n",
              "      <td>India</td>\n",
              "      <td>42.0</td>\n",
              "      <td>80400.0</td>\n",
              "      <td>Yes</td>\n",
              "    </tr>\n",
              "  </tbody>\n",
              "</table>\n",
              "</div>"
            ],
            "text/plain": [
              "   Region   Age   Income Online Shopper\n",
              "0   India  49.0  86400.0             No\n",
              "1  Brazil  32.0  57600.0            Yes\n",
              "2     USA  35.0  64800.0             No\n",
              "3  Brazil  43.0  73200.0             No\n",
              "4     USA  45.0      NaN            Yes\n",
              "5   India  40.0  69600.0            Yes\n",
              "6  Brazil   NaN  62400.0             No\n",
              "7   India  53.0  94800.0            Yes\n",
              "8     USA  55.0  99600.0             No\n",
              "9   India  42.0  80400.0            Yes"
            ]
          },
          "metadata": {},
          "execution_count": 23
        }
      ]
    },
    {
      "cell_type": "code",
      "metadata": {
        "colab": {
          "base_uri": "https://localhost:8080/",
          "height": 359
        },
        "id": "bL_i02EMtbGu",
        "outputId": "194a9238-831b-4acb-dbaa-f38f6fdcfc29"
      },
      "source": [
        "#replacing all the NaN values in the column 'Income' with its mean which is 76533.33\n",
        "data['Income']= data['Income'].replace(np.nan, data['Income'].mean())\n",
        "data"
      ],
      "execution_count": null,
      "outputs": [
        {
          "output_type": "execute_result",
          "data": {
            "text/html": [
              "<div>\n",
              "<style scoped>\n",
              "    .dataframe tbody tr th:only-of-type {\n",
              "        vertical-align: middle;\n",
              "    }\n",
              "\n",
              "    .dataframe tbody tr th {\n",
              "        vertical-align: top;\n",
              "    }\n",
              "\n",
              "    .dataframe thead th {\n",
              "        text-align: right;\n",
              "    }\n",
              "</style>\n",
              "<table border=\"1\" class=\"dataframe\">\n",
              "  <thead>\n",
              "    <tr style=\"text-align: right;\">\n",
              "      <th></th>\n",
              "      <th>Region</th>\n",
              "      <th>Age</th>\n",
              "      <th>Income</th>\n",
              "      <th>Online Shopper</th>\n",
              "    </tr>\n",
              "  </thead>\n",
              "  <tbody>\n",
              "    <tr>\n",
              "      <th>0</th>\n",
              "      <td>India</td>\n",
              "      <td>49.0</td>\n",
              "      <td>86400.000000</td>\n",
              "      <td>No</td>\n",
              "    </tr>\n",
              "    <tr>\n",
              "      <th>1</th>\n",
              "      <td>Brazil</td>\n",
              "      <td>32.0</td>\n",
              "      <td>57600.000000</td>\n",
              "      <td>Yes</td>\n",
              "    </tr>\n",
              "    <tr>\n",
              "      <th>2</th>\n",
              "      <td>USA</td>\n",
              "      <td>35.0</td>\n",
              "      <td>64800.000000</td>\n",
              "      <td>No</td>\n",
              "    </tr>\n",
              "    <tr>\n",
              "      <th>3</th>\n",
              "      <td>Brazil</td>\n",
              "      <td>43.0</td>\n",
              "      <td>73200.000000</td>\n",
              "      <td>No</td>\n",
              "    </tr>\n",
              "    <tr>\n",
              "      <th>4</th>\n",
              "      <td>USA</td>\n",
              "      <td>45.0</td>\n",
              "      <td>76533.333333</td>\n",
              "      <td>Yes</td>\n",
              "    </tr>\n",
              "    <tr>\n",
              "      <th>5</th>\n",
              "      <td>India</td>\n",
              "      <td>40.0</td>\n",
              "      <td>69600.000000</td>\n",
              "      <td>Yes</td>\n",
              "    </tr>\n",
              "    <tr>\n",
              "      <th>6</th>\n",
              "      <td>Brazil</td>\n",
              "      <td>NaN</td>\n",
              "      <td>62400.000000</td>\n",
              "      <td>No</td>\n",
              "    </tr>\n",
              "    <tr>\n",
              "      <th>7</th>\n",
              "      <td>India</td>\n",
              "      <td>53.0</td>\n",
              "      <td>94800.000000</td>\n",
              "      <td>Yes</td>\n",
              "    </tr>\n",
              "    <tr>\n",
              "      <th>8</th>\n",
              "      <td>USA</td>\n",
              "      <td>55.0</td>\n",
              "      <td>99600.000000</td>\n",
              "      <td>No</td>\n",
              "    </tr>\n",
              "    <tr>\n",
              "      <th>9</th>\n",
              "      <td>India</td>\n",
              "      <td>42.0</td>\n",
              "      <td>80400.000000</td>\n",
              "      <td>Yes</td>\n",
              "    </tr>\n",
              "  </tbody>\n",
              "</table>\n",
              "</div>"
            ],
            "text/plain": [
              "   Region   Age        Income Online Shopper\n",
              "0   India  49.0  86400.000000             No\n",
              "1  Brazil  32.0  57600.000000            Yes\n",
              "2     USA  35.0  64800.000000             No\n",
              "3  Brazil  43.0  73200.000000             No\n",
              "4     USA  45.0  76533.333333            Yes\n",
              "5   India  40.0  69600.000000            Yes\n",
              "6  Brazil   NaN  62400.000000             No\n",
              "7   India  53.0  94800.000000            Yes\n",
              "8     USA  55.0  99600.000000             No\n",
              "9   India  42.0  80400.000000            Yes"
            ]
          },
          "metadata": {},
          "execution_count": 24
        }
      ]
    },
    {
      "cell_type": "code",
      "metadata": {
        "colab": {
          "base_uri": "https://localhost:8080/",
          "height": 359
        },
        "id": "MVJ9c-OYHty0",
        "outputId": "9bf5c943-6843-4320-eb3d-1b494375961f"
      },
      "source": [
        "from sklearn.preprocessing import LabelEncoder\n",
        "\n",
        "# creating instance of labelencoder\n",
        "labelencoder = LabelEncoder()\n",
        "\n",
        "# Using the labelencoder we transform the categorical values of the column Online Shopper to Numerical\n",
        "# values where \"No\" corresponds to a \"0\" and \"Yes\" corresponds to \"1\".\n",
        "data['Online Shopper Numerical'] = labelencoder.fit_transform(data['Online Shopper'])\n",
        "\n",
        "# Using the labelencoder we transform the categorical values of the column Region to Numerical\n",
        "# values where \"India\" corresponds to a \"1\", \"Brazil\" corresponds to \"0\" and \"USA\" corresponds to \"2\".\n",
        "data['Region Numerical'] = labelencoder.fit_transform(data['Region'])\n",
        "data"
      ],
      "execution_count": null,
      "outputs": [
        {
          "output_type": "execute_result",
          "data": {
            "text/html": [
              "<div>\n",
              "<style scoped>\n",
              "    .dataframe tbody tr th:only-of-type {\n",
              "        vertical-align: middle;\n",
              "    }\n",
              "\n",
              "    .dataframe tbody tr th {\n",
              "        vertical-align: top;\n",
              "    }\n",
              "\n",
              "    .dataframe thead th {\n",
              "        text-align: right;\n",
              "    }\n",
              "</style>\n",
              "<table border=\"1\" class=\"dataframe\">\n",
              "  <thead>\n",
              "    <tr style=\"text-align: right;\">\n",
              "      <th></th>\n",
              "      <th>Region</th>\n",
              "      <th>Age</th>\n",
              "      <th>Income</th>\n",
              "      <th>Online Shopper</th>\n",
              "      <th>Online Shopper Numerical</th>\n",
              "      <th>Region Numerical</th>\n",
              "    </tr>\n",
              "  </thead>\n",
              "  <tbody>\n",
              "    <tr>\n",
              "      <th>0</th>\n",
              "      <td>India</td>\n",
              "      <td>49.0</td>\n",
              "      <td>86400.000000</td>\n",
              "      <td>No</td>\n",
              "      <td>0</td>\n",
              "      <td>1</td>\n",
              "    </tr>\n",
              "    <tr>\n",
              "      <th>1</th>\n",
              "      <td>Brazil</td>\n",
              "      <td>32.0</td>\n",
              "      <td>57600.000000</td>\n",
              "      <td>Yes</td>\n",
              "      <td>1</td>\n",
              "      <td>0</td>\n",
              "    </tr>\n",
              "    <tr>\n",
              "      <th>2</th>\n",
              "      <td>USA</td>\n",
              "      <td>35.0</td>\n",
              "      <td>64800.000000</td>\n",
              "      <td>No</td>\n",
              "      <td>0</td>\n",
              "      <td>2</td>\n",
              "    </tr>\n",
              "    <tr>\n",
              "      <th>3</th>\n",
              "      <td>Brazil</td>\n",
              "      <td>43.0</td>\n",
              "      <td>73200.000000</td>\n",
              "      <td>No</td>\n",
              "      <td>0</td>\n",
              "      <td>0</td>\n",
              "    </tr>\n",
              "    <tr>\n",
              "      <th>4</th>\n",
              "      <td>USA</td>\n",
              "      <td>45.0</td>\n",
              "      <td>76533.333333</td>\n",
              "      <td>Yes</td>\n",
              "      <td>1</td>\n",
              "      <td>2</td>\n",
              "    </tr>\n",
              "    <tr>\n",
              "      <th>5</th>\n",
              "      <td>India</td>\n",
              "      <td>40.0</td>\n",
              "      <td>69600.000000</td>\n",
              "      <td>Yes</td>\n",
              "      <td>1</td>\n",
              "      <td>1</td>\n",
              "    </tr>\n",
              "    <tr>\n",
              "      <th>6</th>\n",
              "      <td>Brazil</td>\n",
              "      <td>NaN</td>\n",
              "      <td>62400.000000</td>\n",
              "      <td>No</td>\n",
              "      <td>0</td>\n",
              "      <td>0</td>\n",
              "    </tr>\n",
              "    <tr>\n",
              "      <th>7</th>\n",
              "      <td>India</td>\n",
              "      <td>53.0</td>\n",
              "      <td>94800.000000</td>\n",
              "      <td>Yes</td>\n",
              "      <td>1</td>\n",
              "      <td>1</td>\n",
              "    </tr>\n",
              "    <tr>\n",
              "      <th>8</th>\n",
              "      <td>USA</td>\n",
              "      <td>55.0</td>\n",
              "      <td>99600.000000</td>\n",
              "      <td>No</td>\n",
              "      <td>0</td>\n",
              "      <td>2</td>\n",
              "    </tr>\n",
              "    <tr>\n",
              "      <th>9</th>\n",
              "      <td>India</td>\n",
              "      <td>42.0</td>\n",
              "      <td>80400.000000</td>\n",
              "      <td>Yes</td>\n",
              "      <td>1</td>\n",
              "      <td>1</td>\n",
              "    </tr>\n",
              "  </tbody>\n",
              "</table>\n",
              "</div>"
            ],
            "text/plain": [
              "   Region   Age  ...  Online Shopper Numerical Region Numerical\n",
              "0   India  49.0  ...                         0                1\n",
              "1  Brazil  32.0  ...                         1                0\n",
              "2     USA  35.0  ...                         0                2\n",
              "3  Brazil  43.0  ...                         0                0\n",
              "4     USA  45.0  ...                         1                2\n",
              "5   India  40.0  ...                         1                1\n",
              "6  Brazil   NaN  ...                         0                0\n",
              "7   India  53.0  ...                         1                1\n",
              "8     USA  55.0  ...                         0                2\n",
              "9   India  42.0  ...                         1                1\n",
              "\n",
              "[10 rows x 6 columns]"
            ]
          },
          "metadata": {},
          "execution_count": 27
        }
      ]
    },
    {
      "cell_type": "markdown",
      "metadata": {
        "id": "_5GMC9ASrnbs"
      },
      "source": [
        "# QUESTION NUMBER 5"
      ]
    },
    {
      "cell_type": "code",
      "metadata": {
        "colab": {
          "base_uri": "https://localhost:8080/",
          "height": 419
        },
        "id": "I4reo-NMInsh",
        "outputId": "c47f8c81-f9dd-43a3-f498-fe2841d4e33d"
      },
      "source": [
        "#importing pandas to create a dataframe\n",
        "import pandas as pd\n",
        "\n",
        "#importing the library numpy\n",
        "import numpy as np\n",
        "\n",
        "#reading the csv file into a dataframe\n",
        "data = pd.read_csv('shoesize.csv')\n",
        "data"
      ],
      "execution_count": null,
      "outputs": [
        {
          "output_type": "execute_result",
          "data": {
            "text/html": [
              "<div>\n",
              "<style scoped>\n",
              "    .dataframe tbody tr th:only-of-type {\n",
              "        vertical-align: middle;\n",
              "    }\n",
              "\n",
              "    .dataframe tbody tr th {\n",
              "        vertical-align: top;\n",
              "    }\n",
              "\n",
              "    .dataframe thead th {\n",
              "        text-align: right;\n",
              "    }\n",
              "</style>\n",
              "<table border=\"1\" class=\"dataframe\">\n",
              "  <thead>\n",
              "    <tr style=\"text-align: right;\">\n",
              "      <th></th>\n",
              "      <th>Index</th>\n",
              "      <th>Gender</th>\n",
              "      <th>Size</th>\n",
              "      <th>Height</th>\n",
              "    </tr>\n",
              "  </thead>\n",
              "  <tbody>\n",
              "    <tr>\n",
              "      <th>0</th>\n",
              "      <td>1</td>\n",
              "      <td>F</td>\n",
              "      <td>5.5</td>\n",
              "      <td>60.0</td>\n",
              "    </tr>\n",
              "    <tr>\n",
              "      <th>1</th>\n",
              "      <td>2</td>\n",
              "      <td>F</td>\n",
              "      <td>6.0</td>\n",
              "      <td>60.0</td>\n",
              "    </tr>\n",
              "    <tr>\n",
              "      <th>2</th>\n",
              "      <td>3</td>\n",
              "      <td>F</td>\n",
              "      <td>7.0</td>\n",
              "      <td>60.0</td>\n",
              "    </tr>\n",
              "    <tr>\n",
              "      <th>3</th>\n",
              "      <td>4</td>\n",
              "      <td>F</td>\n",
              "      <td>8.0</td>\n",
              "      <td>60.0</td>\n",
              "    </tr>\n",
              "    <tr>\n",
              "      <th>4</th>\n",
              "      <td>5</td>\n",
              "      <td>F</td>\n",
              "      <td>8.0</td>\n",
              "      <td>60.0</td>\n",
              "    </tr>\n",
              "    <tr>\n",
              "      <th>...</th>\n",
              "      <td>...</td>\n",
              "      <td>...</td>\n",
              "      <td>...</td>\n",
              "      <td>...</td>\n",
              "    </tr>\n",
              "    <tr>\n",
              "      <th>403</th>\n",
              "      <td>404</td>\n",
              "      <td>M</td>\n",
              "      <td>13.0</td>\n",
              "      <td>78.0</td>\n",
              "    </tr>\n",
              "    <tr>\n",
              "      <th>404</th>\n",
              "      <td>405</td>\n",
              "      <td>M</td>\n",
              "      <td>13.0</td>\n",
              "      <td>78.0</td>\n",
              "    </tr>\n",
              "    <tr>\n",
              "      <th>405</th>\n",
              "      <td>406</td>\n",
              "      <td>M</td>\n",
              "      <td>14.0</td>\n",
              "      <td>78.0</td>\n",
              "    </tr>\n",
              "    <tr>\n",
              "      <th>406</th>\n",
              "      <td>407</td>\n",
              "      <td>M</td>\n",
              "      <td>15.0</td>\n",
              "      <td>80.0</td>\n",
              "    </tr>\n",
              "    <tr>\n",
              "      <th>407</th>\n",
              "      <td>408</td>\n",
              "      <td>M</td>\n",
              "      <td>15.0</td>\n",
              "      <td>81.0</td>\n",
              "    </tr>\n",
              "  </tbody>\n",
              "</table>\n",
              "<p>408 rows × 4 columns</p>\n",
              "</div>"
            ],
            "text/plain": [
              "     Index Gender  Size  Height\n",
              "0        1      F   5.5    60.0\n",
              "1        2      F   6.0    60.0\n",
              "2        3      F   7.0    60.0\n",
              "3        4      F   8.0    60.0\n",
              "4        5      F   8.0    60.0\n",
              "..     ...    ...   ...     ...\n",
              "403    404      M  13.0    78.0\n",
              "404    405      M  13.0    78.0\n",
              "405    406      M  14.0    78.0\n",
              "406    407      M  15.0    80.0\n",
              "407    408      M  15.0    81.0\n",
              "\n",
              "[408 rows x 4 columns]"
            ]
          },
          "metadata": {},
          "execution_count": 5
        }
      ]
    },
    {
      "cell_type": "code",
      "metadata": {
        "id": "5cz-9rG4LN4x"
      },
      "source": [
        "#importing the matplotlb library for generating plots\n",
        "import matplotlib.pyplot as plt\n",
        "\n",
        "#Defining the plot variables for size and height for each gender\n",
        "plot_xf = data[data['Gender'] == 'F']['Size']\n",
        "plot_xm = data[data['Gender'] == 'M']['Size']\n",
        "plot_yf = data[data['Gender'] == 'F']['Height']\n",
        "plot_ym = data[data['Gender'] == 'M']['Height']\n"
      ],
      "execution_count": null,
      "outputs": []
    },
    {
      "cell_type": "code",
      "metadata": {
        "id": "J13OpBXPnsTX"
      },
      "source": [
        "# importing the library pearsonr from the scipy.stats module\n",
        "from scipy.stats import pearsonr\n",
        "\n",
        "# creating a function to calculate the pearson's correlation coefficient\n",
        "def pcc(data1, data2):\n",
        "  coef = pearsonr(data1, data2)\n",
        "  return coef\n"
      ],
      "execution_count": null,
      "outputs": []
    },
    {
      "cell_type": "code",
      "metadata": {
        "colab": {
          "base_uri": "https://localhost:8080/",
          "height": 313
        },
        "id": "KxN42NoSmnlo",
        "outputId": "b21656b6-5bd1-41ee-dba6-0ca8fa0caf85"
      },
      "source": [
        "#scatter plot for Size vs Height Female\n",
        "\n",
        "plt.xlabel('Size (Female)')\n",
        "plt.ylabel('Height (Female)')\n",
        "\n",
        "#plotting both the variables and setting the dot color to red\n",
        "plt.scatter(plot_xf,plot_yf, c='r')\n",
        "\n",
        "# using the function \"pcc\" we created, we calculate the correlation coefficient\n",
        "pcc_female = pcc(plot_xf,plot_yf)\n",
        "print(pcc_female)\n",
        "\n",
        "#the first value obtained is the correlation coefficient, hence we take the first value from the varibale pcc_female\n",
        "print(f'The pearsons correlation coefficient for shoe size vs height for female is {pcc_female[0]}')"
      ],
      "execution_count": null,
      "outputs": [
        {
          "output_type": "stream",
          "name": "stdout",
          "text": [
            "(0.7078119417143971, 9.773450790332586e-30)\n",
            "The pearsons correlation coefficient for shoe size vs height for female is 0.7078119417143971\n"
          ]
        },
        {
          "output_type": "display_data",
          "data": {
            "image/png": "[encoded data removed]",
            "text/plain": [
              "<Figure size 432x288 with 1 Axes>"
            ]
          },
          "metadata": {
            "needs_background": "light"
          }
        }
      ]
    },
    {
      "cell_type": "code",
      "metadata": {
        "colab": {
          "base_uri": "https://localhost:8080/",
          "height": 313
        },
        "id": "4ttKfBnMLVH-",
        "outputId": "06bc2a4a-fff2-463d-e3fe-c3595c2bf619"
      },
      "source": [
        "#scatter plot for Size vs Height Male\n",
        "\n",
        "plt.xlabel('Size (Male)')\n",
        "plt.ylabel('Height (Female)')\n",
        "\n",
        "#plotting both the variables and setting the dot color to yellow\n",
        "plt.scatter(plot_xm,plot_ym, c='y')\n",
        "\n",
        "# using the function \"pcc\" we created, we calculate the correlation coefficient\n",
        "pcc_male = pcc(plot_xm,plot_ym)\n",
        "print(pcc_male)\n",
        "\n",
        "#the first value obtained is the correlation coefficient, hence we take the first value from the varibale pcc_male\n",
        "print(f'The pearsons correlation coefficient for shoe size vs height for male is {pcc_male[0]}')"
      ],
      "execution_count": null,
      "outputs": [
        {
          "output_type": "stream",
          "name": "stdout",
          "text": [
            "(0.7677093547300977, 3.2857111133112256e-44)\n",
            "The pearsons correlation coefficient for shoe size vs height for male is 0.7677093547300977\n"
          ]
        },
        {
          "output_type": "display_data",
          "data": {
            "image/png": "[encoded data removed]",
            "text/plain": [
              "<Figure size 432x288 with 1 Axes>"
            ]
          },
          "metadata": {
            "needs_background": "light"
          }
        }
      ]
    },
    {
      "cell_type": "markdown",
      "metadata": {
        "id": "Lx-JBexIqFOf"
      },
      "source": [
        "By looking at the scatterplots for both the genders, it can be inferred that the attribute \"shoe size\" and \"height\" are **correlated** with each other. The value of correlation (Pearson's Correlation Coefficient) in case if Female is  \"**0.707**\" and in case if Males is \"**0.7677**\". The value is slightly higher in case of Males so it means that shoe size depends on height or vice versa **more** in case if Males as compared to Females."
      ]
    },
    {
      "cell_type": "markdown",
      "metadata": {
        "id": "x0z5uAN5taJI"
      },
      "source": [
        "# QUESTION NUMBER 6"
      ]
    },
    {
      "cell_type": "code",
      "metadata": {
        "id": "UGSSaAp0XEoV",
        "colab": {
          "base_uri": "https://localhost:8080/",
          "height": 540
        },
        "outputId": "94738061-470b-4380-ee4a-69ef76413a33"
      },
      "source": [
        "import pandas as pd\n",
        "import numpy as np\n",
        "from sklearn.decomposition import PCA\n",
        "import matplotlib.pyplot as plt\n",
        "from sklearn.preprocessing import StandardScaler\n",
        "import seaborn as sns\n",
        "\n",
        "\n",
        "from sklearn.preprocessing import StandardScaler\n",
        "data = pd.read_csv('https://archive.ics.uci.edu/ml/machine-learning-databases/breast-cancer-wisconsin/breast-cancer-wisconsin.data', header=None)\n",
        "data.columns = ['Sample code', 'Clump Thickness', 'Uniformity of Cell Size', 'Uniformity of Cell Shape',\n",
        "                'Marginal Adhesion', 'Single Epithelial Cell Size', 'Bare Nuclei', 'Bland Chromatin',\n",
        "                'Normal Nucleoli', 'Mitoses','Class']\n",
        "\n",
        "from sklearn import preprocessing\n",
        "from scipy import stats\n",
        "\n",
        "data_color = data.copy()\n",
        "\n",
        "data = data.drop(['Sample code'],axis=1)\n",
        "data = data.drop(['Class'],axis=1)\n",
        "data = data.replace('?', np.NaN)\n",
        "data['Bare Nuclei'] = data['Bare Nuclei'].fillna(data['Bare Nuclei'].median())\n",
        "\n",
        "#normalizing the data using z-score normalization\n",
        "\n",
        "# data_norm = (data-mean) / data.std()\n",
        "scalar = StandardScaler()\n",
        "data_norm = scalar.fit_transform(data)\n",
        "\n",
        "\n",
        "\n",
        "pca = PCA(n_components=2)\n",
        "finaldata = pca.fit_transform(data_norm)\n",
        "\n",
        "# variance ratio for the two components\n",
        "print(\" variance ratio \", pca.explained_variance_ratio_)\n",
        "\n",
        "pca_df = pd.DataFrame(finaldata,columns=['PC1','PC2'])\n",
        "pca_df['Class'] = data_color['Class']\n",
        "print(pca_df)\n",
        "\n",
        "x = pca_df['PC1']\n",
        "y = pca_df['PC2']\n",
        "\n",
        "colors = {'2':'red', '4':'green'}\n",
        "\n",
        "# Get Unique Classes from our dataframe\n",
        "color_labels = pca_df['Class'].unique()\n",
        "\n",
        "# List of colors in the color palettes\n",
        "rgb_values = sns.color_palette(\"muted\")\n",
        "\n",
        "# Map Class to the colors\n",
        "color_map = dict(zip(color_labels, rgb_values))\n",
        "\n",
        "# Finally use the mapped values to plot the scatterplot\n",
        "\n",
        "plt.scatter(x, y, s=10, alpha=0.3,\n",
        "            c= pca_df['Class'].map(color_map))\n",
        "plt.show()"
      ],
      "execution_count": null,
      "outputs": [
        {
          "output_type": "stream",
          "name": "stdout",
          "text": [
            " variance ratio  [0.65445704 0.0860859 ]\n",
            "          PC1       PC2  Class\n",
            "0   -1.456220 -0.110210      2\n",
            "1    1.466279 -0.544894      2\n",
            "2   -1.579311 -0.074854      2\n",
            "3    1.505247 -0.558853      2\n",
            "4   -1.330551 -0.089657      2\n",
            "..        ...       ...    ...\n",
            "694 -1.711249  0.188019      2\n",
            "695 -2.063036  0.234224      2\n",
            "696  3.825359 -0.180466      4\n",
            "697  2.269482 -1.113435      4\n",
            "698  2.664453 -1.197242      4\n",
            "\n",
            "[699 rows x 3 columns]\n"
          ]
        },
        {
          "output_type": "display_data",
          "data": {
            "image/png": "[encoded data removed]",
            "text/plain": [
              "<Figure size 432x288 with 1 Axes>"
            ]
          },
          "metadata": {
            "needs_background": "light"
          }
        }
      ]
    }
  ]
}